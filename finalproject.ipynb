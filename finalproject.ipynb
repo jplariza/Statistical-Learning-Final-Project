{
 "cells": [
  {
   "cell_type": "code",
   "execution_count": 31,
   "metadata": {
    "tags": [
     "Linear Regression "
    ]
   },
   "outputs": [
    {
     "name": "stdout",
     "output_type": "stream",
     "text": [
      "Mean Validation Error: 54236753.53988955\n",
      "Coefficients:\n",
      "adm_rate: -5677.609598823288\n",
      "satv25: -768.5951503236992\n",
      "satv50: 1592.1867765404797\n",
      "satv75: -814.4897033405799\n",
      "satm25: -261.43956148852106\n",
      "satm50: 521.6810328771364\n",
      "satm75: -202.3422274575356\n",
      "pell_grant_rate: -41744.94672667305\n",
      "fed_loan_rate: 27262.998081864964\n",
      "ug: -0.28933202960914245\n",
      "ug_men: -641.8507125700288\n",
      "ug_women: 641.8507125627701\n",
      "ug_white: -10608.594805419243\n",
      "ug_black: -2039.4972132068458\n",
      "ug_hispanic: 11589.905948704149\n",
      "ug_asian: 3284.8998262997156\n",
      "ug_25plus: -733.6606175703879\n",
      "first_gen: -3705.485540870845\n",
      "faculty_salary: 0.4860054447821998\n",
      "ft_faculty_rate: 3078.9092050529785\n",
      "math_deg: 32055.083582561114\n",
      "engi_deg: -7201.115385535778\n",
      "bio_deg: 7615.3060106060475\n",
      "sci_deg: 18461.87678073988\n",
      "endowment: 3.0849599192059094e-07\n",
      "booksupply: 0.18369541359029767\n",
      "roomboard: 0.7352255381012751\n",
      "Intercept: -13779.071126636369\n"
     ]
    }
   ],
   "source": [
    "import pandas as pd\n",
    "import numpy as np \n",
    "from sklearn.model_selection import train_test_split\n",
    "from sklearn.model_selection import cross_val_score\n",
    "from sklearn.linear_model import LinearRegression\n",
    "from sklearn.metrics import mean_squared_error\n",
    "\n",
    "\n",
    "training = pd.read_csv(\"colleges_train.csv\")\n",
    "training.head()\n",
    "\n",
    "features = ['adm_rate', 'satv25', 'satv50', 'satv75', 'satm25', 'satm50', 'satm75',\n",
    "            'pell_grant_rate', 'fed_loan_rate', 'ug', 'ug_men', 'ug_women', 'ug_white',\n",
    "            'ug_black', 'ug_hispanic', 'ug_asian', 'ug_25plus', 'first_gen',\n",
    "            'faculty_salary', 'ft_faculty_rate', 'math_deg', 'engi_deg', 'bio_deg',\n",
    "            'sci_deg', 'endowment', 'booksupply', 'roomboard']\n",
    "target = 'tuition'\n",
    "\n",
    "X_train = training[features]\n",
    "y_train = training[target]\n",
    "\n",
    "# Create and train the linear regression model\n",
    "model = LinearRegression()\n",
    "model.fit(X_train, y_train)\n",
    "\n",
    "\n",
    "test= pd.read_csv(\"colleges_test_features.csv\")\n",
    "\n",
    "# Assuming the test features have the same columns as the training data\n",
    "# Extract features from the testing data\n",
    "X_test = test[features]\n",
    "\n",
    "# Make predictions on the testing data using the trained model\n",
    "y_pred_test = model.predict(X_test)\n",
    "\n",
    "\n",
    "cv_scores = cross_val_score(model, X_train, y_train, cv=5, scoring='neg_mean_squared_error')\n",
    "\n",
    "# Convert the negative mean squared errors to positive and calculate mean\n",
    "mean_validation_error = np.mean(-cv_scores)\n",
    "\n",
    "# Print mean validation error\n",
    "print(\"Mean Validation Error:\", mean_validation_error)\n",
    "\n",
    "print(\"Coefficients:\")\n",
    "for feature, coef in zip(features, model.coef_):\n",
    "    print(f\"{feature}: {coef}\")\n",
    "\n",
    "# Print the intercept (bias) of the model\n",
    "print(\"Intercept:\", model.intercept_)\n",
    "\n"
   ]
  },
  {
   "cell_type": "code",
   "execution_count": 32,
   "metadata": {},
   "outputs": [],
   "source": [
    "predictions = model.predict(test[features])\n",
    "\n",
    "# Calculate the 10% lower quantile\n",
    "lower_quantile = np.quantile(predictions, 0.1)\n",
    "\n",
    "# Calculate the 90% upper quantile\n",
    "upper_quantile = np.quantile(predictions, 0.9)\n",
    "\n",
    "# Create a DataFrame to store predictions along with quantiles\n",
    "predictions_df = pd.DataFrame({\n",
    "    'Tuition': predictions,\n",
    "    'Lower_Quantile': lower_quantile,\n",
    "    'Upper_Quantile': upper_quantile\n",
    "})\n",
    "\n",
    "predictions_df.to_csv(\"tuition_predictions.csv\", index=False)"
   ]
  }
 ],
 "metadata": {
  "kernelspec": {
   "display_name": "Python 3",
   "language": "python",
   "name": "python3"
  },
  "language_info": {
   "codemirror_mode": {
    "name": "ipython",
    "version": 3
   },
   "file_extension": ".py",
   "mimetype": "text/x-python",
   "name": "python",
   "nbconvert_exporter": "python",
   "pygments_lexer": "ipython3",
   "version": "3.11.1"
  },
  "orig_nbformat": 4,
  "vscode": {
   "interpreter": {
    "hash": "aee8b7b246df8f9039afb4144a1f6fd8d2ca17a180786b69acc140d282b71a49"
   }
  }
 },
 "nbformat": 4,
 "nbformat_minor": 2
}
