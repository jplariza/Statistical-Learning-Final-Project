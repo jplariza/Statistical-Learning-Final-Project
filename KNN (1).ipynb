{
  "nbformat": 4,
  "nbformat_minor": 0,
  "metadata": {
    "colab": {
      "provenance": []
    },
    "kernelspec": {
      "name": "python3",
      "display_name": "Python 3"
    },
    "language_info": {
      "name": "python"
    }
  },
  "cells": [
    {
      "cell_type": "code",
      "source": [
        "import pandas as pd\n",
        "import numpy as np\n",
        "from sklearn.model_selection import cross_val_score\n",
        "from sklearn.neighbors import KNeighborsRegressor\n",
        "from sklearn.metrics import mean_squared_error\n",
        "from sklearn.preprocessing import StandardScaler\n",
        "from sklearn.pipeline import Pipeline\n",
        "\n",
        "# Load the dataset\n",
        "training = pd.read_csv(\"colleges_train.csv\")\n",
        "# Load test data\n",
        "test_data = pd.read_csv(\"colleges_test_features.csv\")\n",
        "\n",
        "# Define the features and target variable\n",
        "features = ['adm_rate', 'satv25', 'satv50', 'satv75', 'satm25', 'satm50', 'satm75',\n",
        "            'pell_grant_rate', 'fed_loan_rate', 'ug', 'ug_men', 'ug_women', 'ug_white',\n",
        "            'ug_black', 'ug_hispanic', 'ug_asian', 'ug_25plus', 'first_gen',\n",
        "            'faculty_salary', 'ft_faculty_rate', 'math_deg', 'engi_deg', 'bio_deg',\n",
        "            'sci_deg', 'endowment', 'booksupply', 'roomboard']\n",
        "target = 'tuition'\n",
        "\n",
        "# Prepare training data\n",
        "X_train = training[features]\n",
        "y_train = training[target]\n",
        "X_test = test_data[features]\n",
        "\n",
        "# Create a pipeline with scaling and KNN regression\n",
        "knn_pipeline = Pipeline([\n",
        "    ('scaler', StandardScaler()),\n",
        "    ('knn', KNeighborsRegressor(n_neighbors=5))])\n",
        "\n",
        "# Fit the KNN model on the training data\n",
        "knn_pipeline.fit(X_train, y_train)\n",
        "\n",
        "# Cross-validation to evaluate the model\n",
        "cv_scores = cross_val_score(knn_pipeline, X_train, y_train, cv=5, scoring='neg_mean_squared_error')\n",
        "mean_cv_error = -np.mean(cv_scores)\n",
        "print(f\"Mean Validation Error: {mean_cv_error}\")\n",
        "\n",
        "\n",
        "# Predictions on test data\n",
        "test_predictions = knn_pipeline.predict(X_test)\n",
        "\n",
        "# Calculate quantiles for predictions\n",
        "lower_quantile = np.quantile(test_predictions, 0.1)\n",
        "upper_quantile = np.quantile(test_predictions, 0.9)\n",
        "\n",
        "# Create a DataFrame to hold the tuition predictions and quantiles\n",
        "predictions_df = pd.DataFrame({\n",
        "    'Tuition': test_predictions,\n",
        "    'Lower_Quantile': lower_quantile,\n",
        "    'Upper_Quantile': upper_quantile\n",
        "})\n",
        "\n",
        "# save the DataFrame to a CSV file\n",
        "predictions_df.to_csv(\"tuition_predictions_knn.csv\", index=False)"
      ],
      "metadata": {
        "colab": {
          "base_uri": "https://localhost:8080/"
        },
        "id": "zQObnFfty-mx",
        "outputId": "63ad019c-ed7a-4d9c-f729-9c757c923761"
      },
      "execution_count": 16,
      "outputs": [
        {
          "output_type": "stream",
          "name": "stdout",
          "text": [
            "Mean Validation Error: 57044720.5987\n"
          ]
        }
      ]
    }
  ]
}