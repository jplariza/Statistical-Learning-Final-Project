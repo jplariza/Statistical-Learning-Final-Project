{
  "nbformat": 4,
  "nbformat_minor": 0,
  "metadata": {
    "colab": {
      "provenance": []
    },
    "kernelspec": {
      "name": "python3",
      "display_name": "Python 3"
    },
    "language_info": {
      "name": "python"
    }
  },
  "cells": [
    {
      "cell_type": "code",
      "source": [
        "import pandas as pd\n",
        "from sklearn.linear_model import Lasso\n",
        "from sklearn.model_selection import cross_val_score\n",
        "\n",
        "df_train = pd.read_csv('colleges_train.csv')\n",
        "df_test = pd.read_csv('colleges_test_features.csv')\n",
        "\n",
        "# Training a Lasso regression model\n",
        "lasso_model = Lasso(alpha=0.1, random_state=42)\n",
        "lasso_model.fit(X_train, y_train)\n",
        "\n",
        "# Making predictions with the Lasso model\n",
        "lasso_predictions = lasso_model.predict(X_test)\n",
        "\n",
        "# Calculating quantiles for Lasso predictions\n",
        "lasso_lower_quantile = np.percentile(lasso_predictions, 10)\n",
        "lasso_upper_quantile = np.percentile(lasso_predictions, 90)\n",
        "\n",
        "# Creating the output DataFrame for Lasso model\n",
        "lasso_output_df = pd.DataFrame({'Lasso Predicted Tuition': lasso_predictions,\n",
        "                                'Lasso Lower 10% Quantile': lasso_lower_quantile,\n",
        "                                'Lasso Upper 90% Quantile': lasso_upper_quantile})\n",
        "\n",
        "from sklearn.model_selection import cross_val_score\n",
        "\n",
        "# Calculating mean validation error for Ridge and Lasso models using cross-validation\n",
        "lasso_scores = cross_val_score(lasso_model, X_train, y_train, scoring='neg_mean_squared_error', cv=5)\n",
        "\n",
        "lasso_mean_error = -lasso_scores.mean()\n",
        "\n",
        "# Extracting coefficients from Ridge and Lasso models\n",
        "lasso_coefficients_dict = {X_train.columns[i]: lasso_coefficients[i] for i in range(len(lasso_coefficients))}\n",
        "\n",
        "\n",
        "print('Lasso Mean Validation Error:', lasso_mean_error)\n",
        "print('\\\n",
        "Lasso Coefficients:')\n",
        "for feature, coef in lasso_coefficients_dict.items():\n",
        "    print(f'{feature}: {coef}')\n",
        "\n",
        "# Saving to CSV\n",
        "lasso_output_df.to_csv('lasso_tuition_predictions.csv', index=False)\n",
        "\n",
        "print('Lasso model trained and predictions saved to lasso_tuition_predictions.csv.')"
      ],
      "metadata": {
        "colab": {
          "base_uri": "https://localhost:8080/"
        },
        "id": "hEXWFaTzm8Sg",
        "outputId": "07937fcd-9af0-48e5-8b51-1755200703a2"
      },
      "execution_count": 11,
      "outputs": [
        {
          "output_type": "stream",
          "name": "stdout",
          "text": [
            "Lasso Mean Validation Error: 53910069.58710595\n",
            "Lasso Coefficients:\n",
            "adm_rate: -5731.178947655764\n",
            "satv25: 30.06977177460418\n",
            "satv50: -4.540160474023663\n",
            "satv75: -16.744039833988598\n",
            "satm25: -23.866908289770507\n",
            "satm50: 44.43540369407834\n",
            "satm75: 37.83345645998163\n",
            "pell_grant_rate: -41064.698142405505\n",
            "fed_loan_rate: 27180.17409103702\n",
            "ug: -0.2915523666290019\n",
            "ug_men: -1120.0387217221103\n",
            "ug_women: 4.715239854005673e-10\n",
            "ug_white: -10773.98360927649\n",
            "ug_black: -2552.5508846137623\n",
            "ug_hispanic: 11094.449416592217\n",
            "ug_asian: 2740.082249709254\n",
            "ug_25plus: -606.7644286713378\n",
            "first_gen: -3917.4099969585277\n",
            "faculty_salary: 0.485155858032431\n",
            "ft_faculty_rate: 3158.3482816994933\n",
            "math_deg: 30908.578369810977\n",
            "engi_deg: -7390.575360720534\n",
            "bio_deg: 7731.50630820741\n",
            "sci_deg: 18075.95259733877\n",
            "endowment: 3.108714727684575e-07\n",
            "booksupply: 0.1870089073674417\n",
            "roomboard: 0.7337421403354017\n",
            "Lasso model trained and predictions saved to lasso_tuition_predictions.csv.\n"
          ]
        },
        {
          "output_type": "stream",
          "name": "stderr",
          "text": [
            "/usr/local/lib/python3.10/dist-packages/sklearn/linear_model/_coordinate_descent.py:631: ConvergenceWarning: Objective did not converge. You might want to increase the number of iterations, check the scale of the features or consider increasing regularisation. Duality gap: 7.938e+09, tolerance: 5.769e+06\n",
            "  model = cd_fast.enet_coordinate_descent(\n",
            "/usr/local/lib/python3.10/dist-packages/sklearn/linear_model/_coordinate_descent.py:631: ConvergenceWarning: Objective did not converge. You might want to increase the number of iterations, check the scale of the features or consider increasing regularisation. Duality gap: 5.976e+09, tolerance: 4.668e+06\n",
            "  model = cd_fast.enet_coordinate_descent(\n",
            "/usr/local/lib/python3.10/dist-packages/sklearn/linear_model/_coordinate_descent.py:631: ConvergenceWarning: Objective did not converge. You might want to increase the number of iterations, check the scale of the features or consider increasing regularisation. Duality gap: 6.010e+09, tolerance: 4.498e+06\n",
            "  model = cd_fast.enet_coordinate_descent(\n",
            "/usr/local/lib/python3.10/dist-packages/sklearn/linear_model/_coordinate_descent.py:631: ConvergenceWarning: Objective did not converge. You might want to increase the number of iterations, check the scale of the features or consider increasing regularisation. Duality gap: 6.628e+09, tolerance: 4.753e+06\n",
            "  model = cd_fast.enet_coordinate_descent(\n",
            "/usr/local/lib/python3.10/dist-packages/sklearn/linear_model/_coordinate_descent.py:631: ConvergenceWarning: Objective did not converge. You might want to increase the number of iterations, check the scale of the features or consider increasing regularisation. Duality gap: 6.239e+09, tolerance: 4.625e+06\n",
            "  model = cd_fast.enet_coordinate_descent(\n",
            "/usr/local/lib/python3.10/dist-packages/sklearn/linear_model/_coordinate_descent.py:631: ConvergenceWarning: Objective did not converge. You might want to increase the number of iterations, check the scale of the features or consider increasing regularisation. Duality gap: 6.074e+09, tolerance: 4.517e+06\n",
            "  model = cd_fast.enet_coordinate_descent(\n"
          ]
        }
      ]
    }
  ]
}