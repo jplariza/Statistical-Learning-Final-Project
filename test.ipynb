{
 "cells": [
  {
   "cell_type": "code",
   "execution_count": null,
   "metadata": {},
   "outputs": [],
   "source": [
    "import pandas as pd\n",
    "import numpy as np\n",
    "from sklearn.linear_model import Lasso\n",
    "\n",
    "# Read the training data\n",
    "df_train = pd.read_csv('colleges_train.csv')\n",
    "\n",
    "# Define the features and target variable\n",
    "features = ['adm_rate', 'satv25', 'satv50', 'satv75', 'satm25', 'satm50', 'satm75',\n",
    "            'pell_grant_rate', 'fed_loan_rate', 'ug', 'ug_men', 'ug_women', 'ug_white',\n",
    "            'ug_black', 'ug_hispanic', 'ug_asian', 'ug_25plus', 'first_gen',\n",
    "            'faculty_salary', 'ft_faculty_rate', 'math_deg', 'engi_deg', 'bio_deg',\n",
    "            'sci_deg', 'endowment', 'booksupply', 'roomboard']\n",
    "\n",
    "X_train = df_train[features]\n",
    "y_train = df_train['tuition']\n",
    "\n",
    "# Number of bootstrap samples\n",
    "n_bootstrap = 1000\n",
    "prediction_intervals = []\n",
    "\n",
    "# Perform bootstrapping\n",
    "for _ in range(n_bootstrap):\n",
    "    # Generate bootstrap sample\n",
    "    bootstrap_indices = np.random.choice(len(X_train), size=len(X_train), replace=True)\n",
    "    X_boot = X_train.iloc[bootstrap_indices]\n",
    "    y_boot = y_train.iloc[bootstrap_indices]\n",
    "\n",
    "    # Train Lasso model\n",
    "    lasso_model = Lasso(alpha=0.1, random_state=42)\n",
    "    lasso_model.fit(X_boot, y_boot)\n",
    "\n",
    "    # Make predictions\n",
    "    y_pred = lasso_model.predict(X_train)\n",
    "\n",
    "    # Calculate prediction interval for each point\n",
    "    prediction_interval = np.percentile(y_pred, [5, 95])\n",
    "    prediction_intervals.append(prediction_interval)\n",
    "\n",
    "# Create a DataFrame to store prediction intervals\n",
    "prediction_intervals_df = pd.DataFrame(prediction_intervals, columns=['Lower Interval', 'Upper Interval'])\n",
    "\n",
    "# Save DataFrame to CSV\n",
    "prediction_intervals_df.to_csv('prediction_intervals.csv', index=False)\n"
   ]
  }
 ],
 "metadata": {
  "kernelspec": {
   "display_name": "Python 3",
   "language": "python",
   "name": "python3"
  },
  "language_info": {
   "codemirror_mode": {
    "name": "ipython",
    "version": 3
   },
   "file_extension": ".py",
   "mimetype": "text/x-python",
   "name": "python",
   "nbconvert_exporter": "python",
   "pygments_lexer": "ipython3",
   "version": "3.11.1"
  },
  "orig_nbformat": 4,
  "vscode": {
   "interpreter": {
    "hash": "aee8b7b246df8f9039afb4144a1f6fd8d2ca17a180786b69acc140d282b71a49"
   }
  }
 },
 "nbformat": 4,
 "nbformat_minor": 2
}
