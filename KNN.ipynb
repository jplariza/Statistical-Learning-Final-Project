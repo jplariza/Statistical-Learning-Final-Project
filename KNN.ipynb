{
  "nbformat": 4,
  "nbformat_minor": 0,
  "metadata": {
    "colab": {
      "provenance": []
    },
    "kernelspec": {
      "name": "python3",
      "display_name": "Python 3"
    },
    "language_info": {
      "name": "python"
    }
  },
  "cells": [
    {
      "cell_type": "code",
      "source": [
        "import pandas as pd\n",
        "import numpy as np\n",
        "from sklearn.model_selection import train_test_split, cross_val_score\n",
        "from sklearn.neighbors import KNeighborsRegressor\n",
        "from sklearn.metrics import mean_squared_error\n",
        "from sklearn.preprocessing import StandardScaler\n",
        "from sklearn.pipeline import Pipeline\n",
        "\n",
        "# Load the dataset\n",
        "training = pd.read_csv(\"colleges_train.csv\")\n",
        "\n",
        "# Define the features and target variable\n",
        "features = ['adm_rate', 'satv25', 'satv50', 'satv75', 'satm25', 'satm50', 'satm75',\n",
        "            'pell_grant_rate', 'fed_loan_rate', 'ug', 'ug_men', 'ug_women', 'ug_white',\n",
        "            'ug_black', 'ug_hispanic', 'ug_asian', 'ug_25plus', 'first_gen',\n",
        "            'faculty_salary', 'ft_faculty_rate', 'math_deg', 'engi_deg', 'bio_deg',\n",
        "            'sci_deg', 'endowment', 'booksupply', 'roomboard']\n",
        "target = 'tuition'\n",
        "\n",
        "# Prepare training data\n",
        "X = training[features]\n",
        "y = training[target]\n",
        "X_train, X_valid, y_train, y_valid = train_test_split(X, y, test_size=0.2, random_state=1)\n",
        "\n",
        "# Create a pipeline with scaling and KNN regression\n",
        "knn_pipeline = Pipeline([\n",
        "    ('scaler', StandardScaler()),  # It's important to scale features for KNN\n",
        "    ('knn', KNeighborsRegressor(n_neighbors=5))  # You can adjust the number of neighbors\n",
        "])\n",
        "\n",
        "# Fit the KNN model on the training data\n",
        "knn_pipeline.fit(X_train, y_train)\n",
        "\n",
        "# Predict on validation data\n",
        "y_pred = knn_pipeline.predict(X_valid)\n",
        "\n",
        "# Cross-validation to evaluate the model\n",
        "cv_scores = cross_val_score(knn_pipeline, X_train, y_train, cv=5, scoring='neg_mean_squared_error')\n",
        "mean_cv_error = -np.mean(cv_scores)\n",
        "print(f\"Mean Validation Error: {mean_cv_error}\")\n"
      ],
      "metadata": {
        "colab": {
          "base_uri": "https://localhost:8080/"
        },
        "id": "zQObnFfty-mx",
        "outputId": "9c12794a-4570-4297-819f-138402083ee8"
      },
      "execution_count": 10,
      "outputs": [
        {
          "output_type": "stream",
          "name": "stdout",
          "text": [
            "Mean Validation Error: 54348362.3715\n"
          ]
        }
      ]
    }
  ]
}