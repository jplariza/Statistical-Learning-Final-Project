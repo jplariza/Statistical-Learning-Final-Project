{
  "nbformat": 4,
  "nbformat_minor": 0,
  "metadata": {
    "colab": {
      "provenance": []
    },
    "kernelspec": {
      "name": "python3",
      "display_name": "Python 3"
    },
    "language_info": {
      "name": "python"
    }
  },
  "cells": [
    {
      "cell_type": "code",
      "source": [
        "import pandas as pd\n",
        "import numpy as np\n",
        "from sklearn.model_selection import train_test_split, cross_val_score\n",
        "from sklearn.neighbors import KNeighborsRegressor\n",
        "from sklearn.metrics import mean_squared_error\n",
        "from sklearn.preprocessing import StandardScaler\n",
        "from sklearn.pipeline import Pipeline\n",
        "\n",
        "# Load the dataset\n",
        "training = pd.read_csv(\"colleges_train.csv\")\n",
        "\n",
        "# Define the features and target variable\n",
        "features = ['adm_rate', 'satv25', 'satv50', 'satv75', 'satm25', 'satm50', 'satm75',\n",
        "            'pell_grant_rate', 'fed_loan_rate', 'ug', 'ug_men', 'ug_women', 'ug_white',\n",
        "            'ug_black', 'ug_hispanic', 'ug_asian', 'ug_25plus', 'first_gen',\n",
        "            'faculty_salary', 'ft_faculty_rate', 'math_deg', 'engi_deg', 'bio_deg',\n",
        "            'sci_deg', 'endowment', 'booksupply', 'roomboard']\n",
        "target = 'tuition'\n",
        "\n",
        "# Prepare training data\n",
        "X = training[features]\n",
        "y = training[target]\n",
        "X_train, X_valid, y_train, y_valid = train_test_split(X, y, test_size=0.2, random_state=1)\n",
        "\n",
        "# Create a pipeline with scaling and KNN regression\n",
        "knn_pipeline = Pipeline([\n",
        "    ('scaler', StandardScaler()),  # It's important to scale features for KNN\n",
        "    ('knn', KNeighborsRegressor(n_neighbors=5))  # You can adjust the number of neighbors\n",
        "])\n",
        "\n",
        "# Fit the KNN model on the training data\n",
        "knn_pipeline.fit(X_train, y_train)\n",
        "\n",
        "# Predict on validation data\n",
        "y_pred = knn_pipeline.predict(X_valid)\n",
        "\n",
        "# Cross-validation to evaluate the model\n",
        "cv_scores = cross_val_score(knn_pipeline, X_train, y_train, cv=5, scoring='neg_mean_squared_error')\n",
        "mean_cv_error = -np.mean(cv_scores)\n",
        "print(f\"Mean Validation Error: {mean_cv_error}\")\n",
        "\n",
        "# Load test data\n",
        "test_data = pd.read_csv(\"colleges_test_features.csv\")\n",
        "X_test = test_data[features]\n",
        "\n",
        "# Predictions on test data\n",
        "test_predictions = knn_pipeline.predict(X_test)\n",
        "\n",
        "# Calculate quantiles for predictions\n",
        "lower_quantile = np.quantile(test_predictions, 0.1)\n",
        "upper_quantile = np.quantile(test_predictions, 0.9)\n",
        "\n",
        "# Create a DataFrame to hold the tuition predictions and quantiles\n",
        "predictions_df = pd.DataFrame({\n",
        "    'Tuition': test_predictions,\n",
        "    'Lower_Quantile': lower_quantile,\n",
        "    'Upper_Quantile': upper_quantile\n",
        "})\n",
        "\n",
        "# save the DataFrame to a CSV file\n",
        "predictions_df.to_csv(\"tuition_predictions_knn.csv\", index=False)"
      ],
      "metadata": {
        "colab": {
          "base_uri": "https://localhost:8080/"
        },
        "id": "zQObnFfty-mx",
        "outputId": "b5c42bad-0cdf-40b6-8493-1d63139a2bd9"
      },
      "execution_count": 13,
      "outputs": [
        {
          "output_type": "stream",
          "name": "stdout",
          "text": [
            "Mean Validation Error: 54348362.3715\n"
          ]
        }
      ]
    }
  ]
}